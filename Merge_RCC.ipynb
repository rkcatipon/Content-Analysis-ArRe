{
 "cells": [
  {
   "cell_type": "code",
   "execution_count": 2,
   "metadata": {},
   "outputs": [
    {
     "name": "stdout",
     "output_type": "stream",
     "text": [
      "Following 25 files will be merged\n",
      "List of dfs created in  17.925254583358765\n",
      "All DFs sucessfully concatanated in  0.09627985954284668\n"
     ]
    }
   ],
   "source": [
    "from zipfile import ZipFile \n",
    "import os \n",
    "import pandas\n",
    "import time\n",
    "  \n",
    "def get_all_file_paths(directory): \n",
    "  \n",
    "    # initializing empty file paths list \n",
    "    file_paths = [] \n",
    "  \n",
    "    # crawling through directory and subdirectories \n",
    "    for root, directories, files in os.walk(directory): \n",
    "        for filename in files: \n",
    "            # join the two strings in order to form the full filepath. \n",
    "            if ('news_df') in filename and ('.pkl') in filename:\n",
    "                filepath = os.path.join(root, filename) \n",
    "                file_paths.append(filepath) \n",
    "  \n",
    "    # returning all file paths \n",
    "    return file_paths         \n",
    "  \n",
    "\n",
    "# path to folder which needs to be zipped \n",
    "directory = './'\n",
    "\n",
    "# calling function to get all file paths in the directory \n",
    "file_paths = get_all_file_paths(directory) \n",
    "\n",
    "# printing the list of all files to be zipped \n",
    "print('Following' ,len(file_paths),'files will be merged')\n",
    "dfs = []\n",
    "t0=time.time()\n",
    "for file_name in file_paths: \n",
    "    dfs.append(pandas.read_pickle(file_name))\n",
    "t1=time.time()\n",
    "print('List of dfs created in ', t1-t0)\n",
    "t2=time.time()\n",
    "full_news_df=pandas.concat(dfs, verify_integrity=True)\n",
    "print('All DFs sucessfully concatanated in ',time.time()-t2)\n",
    "#print('Df concat successful!')\n",
    "    \n",
    "    "
   ]
  },
  {
   "cell_type": "code",
   "execution_count": 3,
   "metadata": {},
   "outputs": [
    {
     "data": {
      "text/html": [
       "<div>\n",
       "<style scoped>\n",
       "    .dataframe tbody tr th:only-of-type {\n",
       "        vertical-align: middle;\n",
       "    }\n",
       "\n",
       "    .dataframe tbody tr th {\n",
       "        vertical-align: top;\n",
       "    }\n",
       "\n",
       "    .dataframe thead th {\n",
       "        text-align: right;\n",
       "    }\n",
       "</style>\n",
       "<table border=\"1\" class=\"dataframe\">\n",
       "  <thead>\n",
       "    <tr style=\"text-align: right;\">\n",
       "      <th></th>\n",
       "      <th>title</th>\n",
       "      <th>date</th>\n",
       "      <th>country</th>\n",
       "      <th>source</th>\n",
       "      <th>url</th>\n",
       "      <th>text</th>\n",
       "      <th>tokens</th>\n",
       "      <th>normalized_tokens</th>\n",
       "    </tr>\n",
       "  </thead>\n",
       "  <tbody>\n",
       "    <tr>\n",
       "      <th>24454129</th>\n",
       "      <td>Iowans to See Rollout of New Voter ID Rules in...</td>\n",
       "      <td>18-05-02</td>\n",
       "      <td>US</td>\n",
       "      <td>Public News Service</td>\n",
       "      <td>http://www.publicnewsservice.org/2018-05-02/se...</td>\n",
       "      <td>24454129  Media outlets access enhanced multi-...</td>\n",
       "      <td>[medium, outlet, access, enhance, multi, platf...</td>\n",
       "      <td>[[medium, outlet, access, enhance, multi, plat...</td>\n",
       "    </tr>\n",
       "    <tr>\n",
       "      <th>24454138</th>\n",
       "      <td>Week of May 2, 2018</td>\n",
       "      <td>18-05-02</td>\n",
       "      <td>US</td>\n",
       "      <td>The Preston Citizen</td>\n",
       "      <td>https://www.prestoncitizen.com/news/week-of-ma...</td>\n",
       "      <td>24454138  Week of May 2 , 2018  Quick highligh...</td>\n",
       "      <td>[week, quick, highlight, journalist, history, ...</td>\n",
       "      <td>[[week, quick, highlight, journalist, history,...</td>\n",
       "    </tr>\n",
       "    <tr>\n",
       "      <th>24454140</th>\n",
       "      <td>Just a little: Small spot of land can yield lo...</td>\n",
       "      <td>18-05-02</td>\n",
       "      <td>US</td>\n",
       "      <td>Brazosport Facts</td>\n",
       "      <td>http://thefacts.com/living/article_e48f4eb0-f7...</td>\n",
       "      <td>24454140  LAKE JACKSON -- The word \" garden \" ...</td>\n",
       "      <td>[lake, jackson, word, garden, create, sprawl, ...</td>\n",
       "      <td>[[lake, jackson], [word, garden, create, spraw...</td>\n",
       "    </tr>\n",
       "    <tr>\n",
       "      <th>24454622</th>\n",
       "      <td>Armenian Protest Leader Loses Bid For Premier,...</td>\n",
       "      <td>18-05-02</td>\n",
       "      <td>US</td>\n",
       "      <td>WRVO Public Media</td>\n",
       "      <td>http://wrvo.org/post/armenian-protest-leader-l...</td>\n",
       "      <td>24454622  Nikol Pashinyan's supporters packed ...</td>\n",
       "      <td>[nikol, pashinyan, supporter, pack, square, tu...</td>\n",
       "      <td>[[nikol, pashinyan, supporter, pack, square, t...</td>\n",
       "    </tr>\n",
       "    <tr>\n",
       "      <th>24454623</th>\n",
       "      <td>LR vote pushed on setup of board</td>\n",
       "      <td>18-05-02</td>\n",
       "      <td>US</td>\n",
       "      <td>Arkansas Online</td>\n",
       "      <td>http://www.arkansasonline.com/news/2018/may/02...</td>\n",
       "      <td>24454623  Little Rock's Ward 1 City Director E...</td>\n",
       "      <td>[little, rock, ward, city, director, erma, hen...</td>\n",
       "      <td>[[little, rock, ward, city, director, erma, he...</td>\n",
       "    </tr>\n",
       "  </tbody>\n",
       "</table>\n",
       "</div>"
      ],
      "text/plain": [
       "                                                      title      date country  \\\n",
       "24454129  Iowans to See Rollout of New Voter ID Rules in...  18-05-02      US   \n",
       "24454138                                Week of May 2, 2018  18-05-02      US   \n",
       "24454140  Just a little: Small spot of land can yield lo...  18-05-02      US   \n",
       "24454622  Armenian Protest Leader Loses Bid For Premier,...  18-05-02      US   \n",
       "24454623                   LR vote pushed on setup of board  18-05-02      US   \n",
       "\n",
       "                       source  \\\n",
       "24454129  Public News Service   \n",
       "24454138  The Preston Citizen   \n",
       "24454140     Brazosport Facts   \n",
       "24454622    WRVO Public Media   \n",
       "24454623      Arkansas Online   \n",
       "\n",
       "                                                        url  \\\n",
       "24454129  http://www.publicnewsservice.org/2018-05-02/se...   \n",
       "24454138  https://www.prestoncitizen.com/news/week-of-ma...   \n",
       "24454140  http://thefacts.com/living/article_e48f4eb0-f7...   \n",
       "24454622  http://wrvo.org/post/armenian-protest-leader-l...   \n",
       "24454623  http://www.arkansasonline.com/news/2018/may/02...   \n",
       "\n",
       "                                                       text  \\\n",
       "24454129  24454129  Media outlets access enhanced multi-...   \n",
       "24454138  24454138  Week of May 2 , 2018  Quick highligh...   \n",
       "24454140  24454140  LAKE JACKSON -- The word \" garden \" ...   \n",
       "24454622  24454622  Nikol Pashinyan's supporters packed ...   \n",
       "24454623  24454623  Little Rock's Ward 1 City Director E...   \n",
       "\n",
       "                                                     tokens  \\\n",
       "24454129  [medium, outlet, access, enhance, multi, platf...   \n",
       "24454138  [week, quick, highlight, journalist, history, ...   \n",
       "24454140  [lake, jackson, word, garden, create, sprawl, ...   \n",
       "24454622  [nikol, pashinyan, supporter, pack, square, tu...   \n",
       "24454623  [little, rock, ward, city, director, erma, hen...   \n",
       "\n",
       "                                          normalized_tokens  \n",
       "24454129  [[medium, outlet, access, enhance, multi, plat...  \n",
       "24454138  [[week, quick, highlight, journalist, history,...  \n",
       "24454140  [[lake, jackson], [word, garden, create, spraw...  \n",
       "24454622  [[nikol, pashinyan, supporter, pack, square, t...  \n",
       "24454623  [[little, rock, ward, city, director, erma, he...  "
      ]
     },
     "execution_count": 3,
     "metadata": {},
     "output_type": "execute_result"
    }
   ],
   "source": [
    "full_news_df.head()"
   ]
  },
  {
   "cell_type": "code",
   "execution_count": 4,
   "metadata": {},
   "outputs": [
    {
     "data": {
      "text/plain": [
       "(60409, 8)"
      ]
     },
     "execution_count": 4,
     "metadata": {},
     "output_type": "execute_result"
    }
   ],
   "source": [
    "full_news_df.shape"
   ]
  },
  {
   "cell_type": "code",
   "execution_count": 5,
   "metadata": {},
   "outputs": [
    {
     "name": "stdout",
     "output_type": "stream",
     "text": [
      "Saved file\n"
     ]
    }
   ],
   "source": [
    "full_news_df.to_pickle('full_news_df.pkl')\n",
    "print('Saved file')"
   ]
  }
 ],
 "metadata": {
  "kernelspec": {
   "display_name": "Python 3",
   "language": "python",
   "name": "python3"
  },
  "language_info": {
   "codemirror_mode": {
    "name": "ipython",
    "version": 3
   },
   "file_extension": ".py",
   "mimetype": "text/x-python",
   "name": "python",
   "nbconvert_exporter": "python",
   "pygments_lexer": "ipython3",
   "version": "3.6.9"
  }
 },
 "nbformat": 4,
 "nbformat_minor": 2
}
